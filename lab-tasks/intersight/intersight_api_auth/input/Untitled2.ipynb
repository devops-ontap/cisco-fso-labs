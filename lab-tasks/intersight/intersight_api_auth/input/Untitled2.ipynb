{
 "cells": [
  {
   "cell_type": "code",
   "execution_count": 9,
   "id": "6c67d22f",
   "metadata": {},
   "outputs": [
    {
     "ename": "FileNotFoundError",
     "evalue": "[Errno 2] No such file or directory: 'SecretKey.txt'",
     "output_type": "error",
     "traceback": [
      "\u001b[0;31m---------------------------------------------------------------------------\u001b[0m",
      "\u001b[0;31mFileNotFoundError\u001b[0m                         Traceback (most recent call last)",
      "Input \u001b[0;32mIn [9]\u001b[0m, in \u001b[0;36m<module>\u001b[0;34m\u001b[0m\n\u001b[1;32m      3\u001b[0m \u001b[38;5;28;01mfrom\u001b[39;00m \u001b[38;5;21;01mintersight_auth\u001b[39;00m \u001b[38;5;28;01mimport\u001b[39;00m IntersightAuth\n\u001b[1;32m      5\u001b[0m \u001b[38;5;66;03m#Configure Intersight API token and start finding all devices with a non-active or expiring soon contract status\u001b[39;00m\n\u001b[0;32m----> 6\u001b[0m AUTH \u001b[38;5;241m=\u001b[39m \u001b[43mIntersightAuth\u001b[49m\u001b[43m(\u001b[49m\n\u001b[1;32m      7\u001b[0m \u001b[43m    \u001b[49m\u001b[43msecret_key_filename\u001b[49m\u001b[38;5;241;43m=\u001b[39;49m\u001b[38;5;124;43m'\u001b[39;49m\u001b[38;5;124;43mSecretKey.txt\u001b[39;49m\u001b[38;5;124;43m'\u001b[39;49m\u001b[43m,\u001b[49m\n\u001b[1;32m      8\u001b[0m \u001b[43m    \u001b[49m\u001b[43mapi_key_id\u001b[49m\u001b[38;5;241;43m=\u001b[39;49m\u001b[38;5;124;43m'\u001b[39;49m\u001b[38;5;124;43m614a0b357564612d33f7f416/614a0b357564612d33f7f41a/628e66187564612d3335170d\u001b[39;49m\u001b[38;5;124;43m'\u001b[39;49m\n\u001b[1;32m      9\u001b[0m \u001b[43m)\u001b[49m\n\u001b[1;32m     10\u001b[0m \u001b[38;5;66;03m#print(AUTH)\u001b[39;00m\n\u001b[1;32m     11\u001b[0m \n\u001b[1;32m     12\u001b[0m \n\u001b[1;32m     13\u001b[0m \n\u001b[1;32m     14\u001b[0m \u001b[38;5;66;03m#Get Physical Summaries\u001b[39;00m\n\u001b[1;32m     16\u001b[0m json_body \u001b[38;5;241m=\u001b[39m {\n\u001b[1;32m     17\u001b[0m     \u001b[38;5;124m\"\u001b[39m\u001b[38;5;124mrequest_method\u001b[39m\u001b[38;5;124m\"\u001b[39m: \u001b[38;5;124m\"\u001b[39m\u001b[38;5;124mGET\u001b[39m\u001b[38;5;124m\"\u001b[39m,\n\u001b[1;32m     18\u001b[0m     \u001b[38;5;124m\"\u001b[39m\u001b[38;5;124mresource_path\u001b[39m\u001b[38;5;124m\"\u001b[39m: (\n\u001b[1;32m     19\u001b[0m             \u001b[38;5;124m'\u001b[39m\u001b[38;5;124mhttps://intersight.com/api/v1/compute/PhysicalSummaries\u001b[39m\u001b[38;5;124m'\u001b[39m\n\u001b[1;32m     20\u001b[0m     )\n\u001b[1;32m     21\u001b[0m }\n",
      "File \u001b[0;32m~/API-Trainings/dev/cisco-fso-labs/lab-tasks/intersight/intersight_api_auth/input/intersight_auth.py:81\u001b[0m, in \u001b[0;36mIntersightAuth.__init__\u001b[0;34m(self, secret_key_filename, api_key_id, secret_key_file_password)\u001b[0m\n\u001b[1;32m     78\u001b[0m \u001b[38;5;28mself\u001b[39m\u001b[38;5;241m.\u001b[39mapi_key_id \u001b[38;5;241m=\u001b[39m api_key_id\n\u001b[1;32m     79\u001b[0m \u001b[38;5;28mself\u001b[39m\u001b[38;5;241m.\u001b[39msecret_key_file_password \u001b[38;5;241m=\u001b[39m secret_key_file_password\n\u001b[0;32m---> 81\u001b[0m \u001b[38;5;28;01mwith\u001b[39;00m \u001b[38;5;28;43mopen\u001b[39;49m\u001b[43m(\u001b[49m\u001b[43msecret_key_filename\u001b[49m\u001b[43m,\u001b[49m\u001b[43m \u001b[49m\u001b[38;5;124;43m\"\u001b[39;49m\u001b[38;5;124;43mrb\u001b[39;49m\u001b[38;5;124;43m\"\u001b[39;49m\u001b[43m)\u001b[49m \u001b[38;5;28;01mas\u001b[39;00m secret_key_file:\n\u001b[1;32m     82\u001b[0m     \u001b[38;5;28mself\u001b[39m\u001b[38;5;241m.\u001b[39msecret_key \u001b[38;5;241m=\u001b[39m serialization\u001b[38;5;241m.\u001b[39mload_pem_private_key(\n\u001b[1;32m     83\u001b[0m         secret_key_file\u001b[38;5;241m.\u001b[39mread(),\n\u001b[1;32m     84\u001b[0m         password\u001b[38;5;241m=\u001b[39msecret_key_file_password,\n\u001b[1;32m     85\u001b[0m         backend\u001b[38;5;241m=\u001b[39mdefault_backend()\n\u001b[1;32m     86\u001b[0m         )\n",
      "\u001b[0;31mFileNotFoundError\u001b[0m: [Errno 2] No such file or directory: 'SecretKey.txt'"
     ]
    }
   ],
   "source": [
    "import json\n",
    "import requests\n",
    "from intersight_auth import IntersightAuth\n",
    "\n",
    "#Configure Intersight API token and start finding all devices with a non-active or expiring soon contract status\n",
    "AUTH = IntersightAuth(\n",
    "    secret_key_filename='SecretKey.txt',\n",
    "    api_key_id='614a0b357564612d33f7f416/614a0b357564612d33f7f41a/628e66187564612d3335170d'\n",
    ")\n",
    "#print(AUTH)\n",
    "\n",
    "\n",
    "\n",
    "#Get Physical Summaries\n",
    "\n",
    "json_body = {\n",
    "    \"request_method\": \"GET\",\n",
    "    \"resource_path\": (\n",
    "            'https://intersight.com/api/v1/compute/PhysicalSummaries'\n",
    "    )\n",
    "}\n",
    "\n",
    "RESPONSE = requests.request(\n",
    "    method=json_body['request_method'],\n",
    "    url=json_body['resource_path'],\n",
    "    auth=AUTH\n",
    ")\n",
    "\n",
    "print(RESPONSE.text)\n",
    "\n",
    "\n"
   ]
  },
  {
   "cell_type": "code",
   "execution_count": null,
   "id": "c7b11afd",
   "metadata": {},
   "outputs": [],
   "source": []
  },
  {
   "cell_type": "code",
   "execution_count": null,
   "id": "617e6829",
   "metadata": {},
   "outputs": [],
   "source": []
  }
 ],
 "metadata": {
  "kernelspec": {
   "display_name": "Python 3 (ipykernel)",
   "language": "python",
   "name": "python3"
  },
  "language_info": {
   "codemirror_mode": {
    "name": "ipython",
    "version": 3
   },
   "file_extension": ".py",
   "mimetype": "text/x-python",
   "name": "python",
   "nbconvert_exporter": "python",
   "pygments_lexer": "ipython3",
   "version": "3.10.0"
  }
 },
 "nbformat": 4,
 "nbformat_minor": 5
}
