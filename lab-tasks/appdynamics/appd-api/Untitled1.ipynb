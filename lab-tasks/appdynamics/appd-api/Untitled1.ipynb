{
 "cells": [
  {
   "cell_type": "code",
   "execution_count": 23,
   "id": "3f85827b",
   "metadata": {},
   "outputs": [
    {
     "name": "stdout",
     "output_type": "stream",
     "text": [
      "grant_type=client_credentials&client_id=fsolab4%40cisco-apipartnertraininglab&client_secret=cdb74fe0-a19e-4432-9350-9bb6ebc1fa56\n",
      "{\n",
      "  \"token_type\" : \"bearer\",\n",
      "  \"access_token\" : \"eyJraWQiOiJiN2UzOTg1OS1iOTE0LTRiNzItYjU3NS0wNDExYTQ2NTU4YzUiLCJhbGciOiJSUzUxMiJ9.eyJpc3MiOiJBcHBEeW5hbWljcyIsImF1ZCI6IkFwcERfQVBJcyIsImp0aSI6IjFyMHl1LUI1dVJjN0habUVZbzBIbGciLCJzdWIiOiJmc29sYWI0IiwiaWRUeXBlIjoiQVBJX0NMSUVOVCIsImlkIjoiY2NlNmI5Y2YtMWU4NC00MTI1LWI4MWYtMDhiMDU5MTEwNTE5IiwiYWNjdElkIjoiNDEzMTk1MmItNmNhOC00NWUyLWFiYmQtNTcyMGYxZmQ2YjhjIiwidG50SWQiOiI0MTMxOTUyYi02Y2E4LTQ1ZTItYWJiZC01NzIwZjFmZDZiOGMiLCJhY2N0TmFtZSI6ImNpc2NvLWFwaXBhcnRuZXJ0cmFpbmluZ2xhYiIsInRlbmFudE5hbWUiOiJjaXNjby1hcGlwYXJ0bmVydHJhaW5pbmdsYWIiLCJmbW1UbnRJZCI6bnVsbCwiYWNjdFBlcm0iOltdLCJyb2xlSWRzIjpbXSwiaWF0IjoxNjUwNTc4NzE3LCJuYmYiOjE2NTA1Nzg1OTcsImV4cCI6MTY1MDY2NTExNywidG9rZW5UeXBlIjoiQUNDRVNTIn0.NuMOZrvujeaTOGByG9bUv61rpRnvio-kLbH3_hw80aFG65Gdm8ww9S6AKJvgJ_xKtACri1MOO66-rmydYcgVTqEfAJnVR4_xD1WWOIUIpwA5_a7sYyyzkK2Eq-hNdXZ6uBVvtTz5e3PHAgeoZaxxQV3BUhFCfgDe7ySGxdUGkV6unM5dGrBEW65pvjmsy2rA980L5C_Hzg-U66EW8V4HFTI1BowLxHPOb6OyOjrm8Lv3Tnb2jVK0zMyZQ_abATtFzZAv2n7-VfI14didsPFmlzKM0g7-lhHan8iXuz3Qb8N5XkDQMdjAoyHfpVKCZDsD7xAzpm-vPyBHUWPLN6nKERvQvD4KrsvG7cPfCpZ9b8PvjHLoW97BXA-LhEbOoUMToen9FRWNFir8SbcgUf9cMjlGk9FPoFyqjPekzZLxAGaR1yD3SvpyLPGuJnpXqLqr6h-xJB-JOYdGVPtjnKqxdUaTdeTb4SO3iZqXsfCOyaty_2wmCFFHn6Be7gUGCFYn\",\n",
      "  \"refresh_token\" : \"eyJraWQiOiJiN2UzOTg1OS1iOTE0LTRiNzItYjU3NS0wNDExYTQ2NTU4YzUiLCJhbGciOiJSUzUxMiJ9.eyJpc3MiOiJBcHBEeW5hbWljcyIsImF1ZCI6IkFwcERfQVBJcyIsImp0aSI6IkRYcW1mMVVlNE1adVFETFRsdTZzUUEiLCJzdWIiOiJmc29sYWI0IiwiaWRUeXBlIjoiQVBJX0NMSUVOVCIsImlkIjoiY2NlNmI5Y2YtMWU4NC00MTI1LWI4MWYtMDhiMDU5MTEwNTE5IiwiYWNjdElkIjoiNDEzMTk1MmItNmNhOC00NWUyLWFiYmQtNTcyMGYxZmQ2YjhjIiwidG50SWQiOiI0MTMxOTUyYi02Y2E4LTQ1ZTItYWJiZC01NzIwZjFmZDZiOGMiLCJhY2N0TmFtZSI6ImNpc2NvLWFwaXBhcnRuZXJ0cmFpbmluZ2xhYiIsInRlbmFudE5hbWUiOiJjaXNjby1hcGlwYXJ0bmVydHJhaW5pbmdsYWIiLCJmbW1UbnRJZCI6bnVsbCwiYWNjdFBlcm0iOltdLCJyb2xlSWRzIjpbXSwiaWF0IjoxNjUwNTc4NzE3LCJuYmYiOjE2NTA1Nzg1OTcsImV4cCI6MTY1MDY2NTExNywidG9rZW5UeXBlIjoiUkVGUkVTSCJ9.U2tdjx-DIW2ewDm-C_A_XQg-1tNQ3e47sWuWaKIbLy7b6t2VxwuhK2TmdqcARON3QzJGd8CMD47Kp8-A55SIY0H-SqxNunwHXEpNUehV4tRMYms_cjAK_H9UHB7Qpu1ARKm_PnT6Grqe4Ur8EqxcFetUbku019AF3lziSWBnxkQcSmq-dLBZPslT-YmFYD-3htsOEvGaO_00b-Ik65-JbP0yXPMqexZWi6A4aVjrLN38-KQYc_sy1E-hMQ97r5ErJ4EG6v7DueIDLUadC5IeVRLwlo-LerURYALMsQB28O6y0v14G8eKYJiliU8I-MRSipg1MVfOBlkW3KBu99bC8NwXDzKH3AaPubrhiFgiSXbvmQbQ0TNOlynTCVXQjpeolrrPskuyy8p3flB4m5ypBeKy6v3aU_DijhnxDQa0yv-6ybG-MtaZwt77w2JacLZaykwyTukFeOKJGoHtvTF3qQ2uwBegh-nDKTei_7I5rrYedp1RaSIeLdyvZ2iwo6mo\",\n",
      "  \"expires_in\" : 86400\n",
      "}\n",
      "<bound method Response.json of <Response [200]>>\n"
     ]
    }
   ],
   "source": [
    "#!/usr/bin/env python\n",
    "import json, re, sys, os, json, subprocess, time, logging, requests, paramiko, urllib3\n",
    "from subprocess import call, check_output\n",
    "from requests.structures import CaseInsensitiveDict\n",
    "urllib3.disable_warnings()\n",
    "import requests\n",
    "\n",
    "\n",
    "#import the env vars and logon to vault to get the secret and then use it to run this command and write the output to the vault\n",
    "token = os.getenv('APPD_SECRET')\n",
    "APPD_SECRET='cdb74fe0-a19e-4432-9350-9bb6ebc1fa56'\n",
    "\n",
    "url = \"https://cisco-apipartnertraininglab.saas.appdynamics.com/auth/v1/oauth/token\"\n",
    "payload='grant_type=client_credentials&client_id=fsolab4%40cisco-apipartnertraininglab&client_secret=' + APPD_SECRET\n",
    "print(payload)\n",
    "headers = {\n",
    "    'Content-Type': 'application/x-www-form-urlencoded'\n",
    "}\n",
    "\n",
    "response = requests.request(\"POST\", url, headers=headers, data=payload)\n",
    "\n",
    "print(response.text)\n",
    "print(response.json)\n",
    "\n",
    "#write the access token to the vault\n"
   ]
  },
  {
   "cell_type": "code",
   "execution_count": 16,
   "id": "7bb4d329",
   "metadata": {},
   "outputs": [
    {
     "name": "stdout",
     "output_type": "stream",
     "text": [
      "{'token_type': 'bearer', 'access_token': 'eyJraWQiOiJiN2UzOTg1OS1iOTE0LTRiNzItYjU3NS0wNDExYTQ2NTU4YzUiLCJhbGciOiJSUzUxMiJ9.eyJpc3MiOiJBcHBEeW5hbWljcyIsImF1ZCI6IkFwcERfQVBJcyIsImp0aSI6IlJCY3pYUUVCR1d2ZTdrUVFoSGZ2WHciLCJzdWIiOiJmc29sYWI0IiwiaWRUeXBlIjoiQVBJX0NMSUVOVCIsImlkIjoiY2NlNmI5Y2YtMWU4NC00MTI1LWI4MWYtMDhiMDU5MTEwNTE5IiwiYWNjdElkIjoiNDEzMTk1MmItNmNhOC00NWUyLWFiYmQtNTcyMGYxZmQ2YjhjIiwidG50SWQiOiI0MTMxOTUyYi02Y2E4LTQ1ZTItYWJiZC01NzIwZjFmZDZiOGMiLCJhY2N0TmFtZSI6ImNpc2NvLWFwaXBhcnRuZXJ0cmFpbmluZ2xhYiIsInRlbmFudE5hbWUiOiJjaXNjby1hcGlwYXJ0bmVydHJhaW5pbmdsYWIiLCJmbW1UbnRJZCI6bnVsbCwiYWNjdFBlcm0iOltdLCJyb2xlSWRzIjpbXSwiaWF0IjoxNjUwNTcyODExLCJuYmYiOjE2NTA1NzI2OTEsImV4cCI6MTY1MDY1OTIxMSwidG9rZW5UeXBlIjoiQUNDRVNTIn0.Ue6ZpShwzADGR16SJiHicbNTuZ1Q6CR6FvyGFNA9qqx7g_1yGpLUPC_v3VT4O2klraurD66kjzqr_NhFzoXuv5VK8qUDhAt-lYG5q0XalAgqdfFBB3oSV1iQbmbbO0HpqSO3-uyJjeg_XGx0GKNF9Pbfz0HDi6iAIC817LG3-eyQNHqo8s4JZvjGIOpVjOaOtPvpmFlOi6MJ1O9OS0bA4nCUTZ4yJcIEVKCpVbCck_Dn_Ge7gjRtrDbBdqSe740RPaY1lapX1OkrXc2uR-gRUzmv9Z3w2K3kqmtmzUayy-8gXpGfp4_VD5-2TL01aGtSBtiaLUFOQxVsPoHhDV0itfOx4UsoN-v7MoyQfI_60hCZgb1NVXs2_s6SZLj5t_nYI1-ZGxRpleTx0nQm7tVOhryy5hGOdA8XVcF_U0clpSlJRkokrB4B8rx6HNV5_iEf2S7f4K9e2PuGF4I6cifdJB8qa8nEEsO78XMnNj42Rw-kjuJMUi1c1BvyRRl5k5-e', 'refresh_token': 'eyJraWQiOiJiN2UzOTg1OS1iOTE0LTRiNzItYjU3NS0wNDExYTQ2NTU4YzUiLCJhbGciOiJSUzUxMiJ9.eyJpc3MiOiJBcHBEeW5hbWljcyIsImF1ZCI6IkFwcERfQVBJcyIsImp0aSI6IkZnS3VucDBBYmpoZnVINjZCY0pMVnciLCJzdWIiOiJmc29sYWI0IiwiaWRUeXBlIjoiQVBJX0NMSUVOVCIsImlkIjoiY2NlNmI5Y2YtMWU4NC00MTI1LWI4MWYtMDhiMDU5MTEwNTE5IiwiYWNjdElkIjoiNDEzMTk1MmItNmNhOC00NWUyLWFiYmQtNTcyMGYxZmQ2YjhjIiwidG50SWQiOiI0MTMxOTUyYi02Y2E4LTQ1ZTItYWJiZC01NzIwZjFmZDZiOGMiLCJhY2N0TmFtZSI6ImNpc2NvLWFwaXBhcnRuZXJ0cmFpbmluZ2xhYiIsInRlbmFudE5hbWUiOiJjaXNjby1hcGlwYXJ0bmVydHJhaW5pbmdsYWIiLCJmbW1UbnRJZCI6bnVsbCwiYWNjdFBlcm0iOltdLCJyb2xlSWRzIjpbXSwiaWF0IjoxNjUwNTcyODExLCJuYmYiOjE2NTA1NzI2OTEsImV4cCI6MTY1MDY1OTIxMSwidG9rZW5UeXBlIjoiUkVGUkVTSCJ9.RLottKY58Dr_fC4Pq3paVdAASPpkvDUgY-OTCiNm3XUNJEJXEF4tG5ock4COrdNk4nlBeufKoXpDlJT-aB78fz1kpHZkEw1-L6LS9FqkxVjAuoPSdzCoKOmyt4RURsmbmAQpjsginwekNG7T9WsvbFApY6UNk03EQpgMoqY15YrubIlKhSZAnpMUMpACJdgkoT-58HDkYsPsVIpNzXOwOg1hTXveZAef4AhZh7Y641HRIrCY-AyGexEu41YXW0XLo_MAU-Y2dT73TTzjveFu74gIaQ3_88uaJWfmZQXhATRaRTEaidU7Fu0x_aeHlSzW2M0susqjuOtrgrp0fllHPtgFNhK2GehxgQw5Uf5hMFro4gjUSVfMBaBcHN-O7-gcI3jy374Wtr0Ckyt5jhthd1-M33mDzcpWW9-jIbMBIyWCbS0Va6hjK-u9BtWOTXDrj_RP2L_DfynCIoIiFC8Wy3wvHJ__XF5XDw7SRr_C3z3v_smtcdN0KF4JhThY1_LV', 'expires_in': 86400}\n"
     ]
    }
   ],
   "source": [
    "token_json = response.json()\n",
    "print(token_json)\n"
   ]
  },
  {
   "cell_type": "code",
   "execution_count": 20,
   "id": "cecda3ed",
   "metadata": {},
   "outputs": [
    {
     "name": "stdout",
     "output_type": "stream",
     "text": [
      "<class 'dict'>\n"
     ]
    }
   ],
   "source": [
    "print(type(token_json))"
   ]
  },
  {
   "cell_type": "code",
   "execution_count": 21,
   "id": "15fd1f1a",
   "metadata": {},
   "outputs": [
    {
     "name": "stdout",
     "output_type": "stream",
     "text": [
      "eyJraWQiOiJiN2UzOTg1OS1iOTE0LTRiNzItYjU3NS0wNDExYTQ2NTU4YzUiLCJhbGciOiJSUzUxMiJ9.eyJpc3MiOiJBcHBEeW5hbWljcyIsImF1ZCI6IkFwcERfQVBJcyIsImp0aSI6IlJCY3pYUUVCR1d2ZTdrUVFoSGZ2WHciLCJzdWIiOiJmc29sYWI0IiwiaWRUeXBlIjoiQVBJX0NMSUVOVCIsImlkIjoiY2NlNmI5Y2YtMWU4NC00MTI1LWI4MWYtMDhiMDU5MTEwNTE5IiwiYWNjdElkIjoiNDEzMTk1MmItNmNhOC00NWUyLWFiYmQtNTcyMGYxZmQ2YjhjIiwidG50SWQiOiI0MTMxOTUyYi02Y2E4LTQ1ZTItYWJiZC01NzIwZjFmZDZiOGMiLCJhY2N0TmFtZSI6ImNpc2NvLWFwaXBhcnRuZXJ0cmFpbmluZ2xhYiIsInRlbmFudE5hbWUiOiJjaXNjby1hcGlwYXJ0bmVydHJhaW5pbmdsYWIiLCJmbW1UbnRJZCI6bnVsbCwiYWNjdFBlcm0iOltdLCJyb2xlSWRzIjpbXSwiaWF0IjoxNjUwNTcyODExLCJuYmYiOjE2NTA1NzI2OTEsImV4cCI6MTY1MDY1OTIxMSwidG9rZW5UeXBlIjoiQUNDRVNTIn0.Ue6ZpShwzADGR16SJiHicbNTuZ1Q6CR6FvyGFNA9qqx7g_1yGpLUPC_v3VT4O2klraurD66kjzqr_NhFzoXuv5VK8qUDhAt-lYG5q0XalAgqdfFBB3oSV1iQbmbbO0HpqSO3-uyJjeg_XGx0GKNF9Pbfz0HDi6iAIC817LG3-eyQNHqo8s4JZvjGIOpVjOaOtPvpmFlOi6MJ1O9OS0bA4nCUTZ4yJcIEVKCpVbCck_Dn_Ge7gjRtrDbBdqSe740RPaY1lapX1OkrXc2uR-gRUzmv9Z3w2K3kqmtmzUayy-8gXpGfp4_VD5-2TL01aGtSBtiaLUFOQxVsPoHhDV0itfOx4UsoN-v7MoyQfI_60hCZgb1NVXs2_s6SZLj5t_nYI1-ZGxRpleTx0nQm7tVOhryy5hGOdA8XVcF_U0clpSlJRkokrB4B8rx6HNV5_iEf2S7f4K9e2PuGF4I6cifdJB8qa8nEEsO78XMnNj42Rw-kjuJMUi1c1BvyRRl5k5-e\n"
     ]
    }
   ],
   "source": [
    "question_token = token_json['access_token']\n",
    "print(question_token)"
   ]
  },
  {
   "cell_type": "code",
   "execution_count": null,
   "id": "3a82da76",
   "metadata": {},
   "outputs": [],
   "source": []
  },
  {
   "cell_type": "code",
   "execution_count": null,
   "id": "0842e32c",
   "metadata": {},
   "outputs": [],
   "source": [
    "agent_list = agent_list_json['agents']\n",
    "list_of_dictionaries = agent_list\n",
    "sought_value = \"Enterprise\"\n",
    "found_values = []\n",
    "for dictionary in list_of_dictionaries:\n",
    "    if (dictionary[\"agentType\"] == \"Enterprise\"):\n",
    "        found_values.append(dictionary)\n",
    "print(found_values)"
   ]
  },
  {
   "cell_type": "code",
   "execution_count": 22,
   "id": "f77fe1d2",
   "metadata": {},
   "outputs": [
    {
     "name": "stdout",
     "output_type": "stream",
     "text": [
      "grant_type=client_credentials&client_id=fsolab4%40cisco-apipartnertraininglab&client_secret=None\n",
      "<bound method Response.json of <Response [401]>>\n"
     ]
    },
    {
     "ename": "KeyError",
     "evalue": "'access_token'",
     "output_type": "error",
     "traceback": [
      "\u001b[0;31m---------------------------------------------------------------------------\u001b[0m",
      "\u001b[0;31mKeyError\u001b[0m                                  Traceback (most recent call last)",
      "Input \u001b[0;32mIn [22]\u001b[0m, in \u001b[0;36m<module>\u001b[0;34m\u001b[0m\n\u001b[1;32m     22\u001b[0m \u001b[38;5;66;03m#put the bearer token into a var\u001b[39;00m\n\u001b[1;32m     23\u001b[0m token_json \u001b[38;5;241m=\u001b[39m response\u001b[38;5;241m.\u001b[39mjson()\n\u001b[0;32m---> 24\u001b[0m appd_token \u001b[38;5;241m=\u001b[39m \u001b[43mtoken_json\u001b[49m\u001b[43m[\u001b[49m\u001b[38;5;124;43m'\u001b[39;49m\u001b[38;5;124;43maccess_token\u001b[39;49m\u001b[38;5;124;43m'\u001b[39;49m\u001b[43m]\u001b[49m\n\u001b[1;32m     25\u001b[0m \u001b[38;5;28mprint\u001b[39m(appd_token)\n\u001b[1;32m     27\u001b[0m os\u001b[38;5;241m.\u001b[39menviron[\u001b[38;5;124m\"\u001b[39m\u001b[38;5;124mAPPD_TOKEN\u001b[39m\u001b[38;5;124m\"\u001b[39m] \u001b[38;5;241m=\u001b[39m appd_token\n",
      "\u001b[0;31mKeyError\u001b[0m: 'access_token'"
     ]
    }
   ],
   "source": [
    "#!/usr/bin/env python\n",
    "import json, re, sys, os, json, subprocess, time, logging, requests, urllib3\n",
    "from subprocess import call, check_output\n",
    "from requests.structures import CaseInsensitiveDict\n",
    "urllib3.disable_warnings()\n",
    "import requests\n",
    "\n",
    "#The AppD secret is passed in via Env Var which is injected into the build container via the pipeline\n",
    "#import the env vars and logon to vault to get the secret and then use it to run this command and write the output to the vault\n",
    "appd_secret = os.getenv('APPD_SECRET')\n",
    "#APPD_SECRET='cdb74fe0-a19e-4432-9350-9bb6ebc1fa56'\n",
    "\n",
    "url = \"https://cisco-apipartnertraininglab.saas.appdynamics.com/auth/v1/oauth/token\"\n",
    "payload='grant_type=client_credentials&client_id=fsolab4%40cisco-apipartnertraininglab&client_secret=' + str(appd_secret)\n",
    "print(payload)\n",
    "headers = {\n",
    "    'Content-Type': 'application/x-www-form-urlencoded'\n",
    "}\n",
    "\n",
    "response = requests.request(\"POST\", url, headers=headers, data=payload)\n",
    "print(response.json)\n",
    "#put the bearer token into a var\n",
    "token_json = response.json()\n",
    "appd_token = token_json['access_token']\n",
    "print(appd_token)\n",
    "\n",
    "os.environ[\"APPD_TOKEN\"] = appd_token\n",
    "\n",
    "#write the access token to the vault (remember need to update this later so it does it for each environment - so each branch needs to have a user in vault with that name\n",
    "#Do this from the shell script until you add in the vault module for python here.....\n",
    "\n"
   ]
  },
  {
   "cell_type": "code",
   "execution_count": null,
   "id": "f8a1fb4d",
   "metadata": {},
   "outputs": [],
   "source": []
  }
 ],
 "metadata": {
  "kernelspec": {
   "display_name": "Python 3 (ipykernel)",
   "language": "python",
   "name": "python3"
  },
  "language_info": {
   "codemirror_mode": {
    "name": "ipython",
    "version": 3
   },
   "file_extension": ".py",
   "mimetype": "text/x-python",
   "name": "python",
   "nbconvert_exporter": "python",
   "pygments_lexer": "ipython3",
   "version": "3.10.0"
  }
 },
 "nbformat": 4,
 "nbformat_minor": 5
}
