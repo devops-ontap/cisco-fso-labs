{
 "cells": [
  {
   "cell_type": "code",
   "execution_count": 9,
   "id": "c28c1015",
   "metadata": {},
   "outputs": [],
   "source": [
    "#!/usr/bin/env python\n",
    "import json, re, sys, os, json, subprocess, time, logging, requests, paramiko, urllib3\n",
    "import pandas as pd\n",
    "from subprocess import call, check_output\n",
    "from requests.structures import CaseInsensitiveDict\n",
    "urllib3.disable_warnings()\n",
    "token = os.getenv('TE_OATHTOKEN')\n",
    "token = '1d0acd78-a470-44ad-a6d6-0892ac2db441'\n",
    "#test_name = 'us-east-2b-test1'\n",
    "url = \"https://api.thousandeyes.com/v6/agents.json\"\n",
    "payload={}\n",
    "headers = {'Authorization': 'Bearer ' + token}\n",
    "agent_response = requests.request(\"GET\", url, headers=headers, data=payload)"
   ]
  },
  {
   "cell_type": "code",
   "execution_count": 10,
   "id": "49080e23",
   "metadata": {},
   "outputs": [
    {
     "name": "stdout",
     "output_type": "stream",
     "text": [
      "[{'agentId': 469846, 'agentName': 'ip-10-10-10-16', 'agentType': 'Enterprise', 'countryId': 'US', 'enabled': 1, 'keepBrowserCache': 0, 'verifySslCertificates': 1, 'ipAddresses': ['10.10.10.16'], 'lastSeen': '2022-04-12 19:38:55', 'location': 'Columbus Area', 'network': 'Amazon.com, Inc. (AS 16509)', 'prefix': '3.16.0.0/14', 'publicIpAddresses': ['3.16.138.198'], 'targetForTests': '10.10.10.16', 'agentState': 'Online', 'utilization': 0, 'ipv6Policy': 'FORCE_IPV4', 'hostname': 'ip-10-10-10-16', 'createdDate': '2022-04-12 16:48:17', 'errorDetails': []}, {'agentId': 469856, 'agentName': 'ip-10-10-10-116', 'agentType': 'Enterprise', 'countryId': 'US', 'enabled': 1, 'keepBrowserCache': 0, 'verifySslCertificates': 1, 'ipAddresses': ['10.10.10.116'], 'lastSeen': '2022-04-12 19:38:19', 'location': 'Columbus Area', 'network': 'Amazon.com, Inc. (AS 16509)', 'prefix': '18.216.0.0/14', 'publicIpAddresses': ['18.217.222.20'], 'targetForTests': '10.10.10.116', 'agentState': 'Online', 'utilization': 0, 'ipv6Policy': 'FORCE_IPV4', 'hostname': 'ip-10-10-10-116', 'createdDate': '2022-04-12 16:49:03', 'errorDetails': []}]\n"
     ]
    }
   ],
   "source": [
    "agent_list_json = agent_response.json()\n",
    "agent_list = agent_list_json['agents']\n",
    "list_of_dictionaries = agent_list\n",
    "sought_value = \"Enterprise\"\n",
    "found_values = []\n",
    "for dictionary in list_of_dictionaries:\n",
    "    if (dictionary[\"agentType\"] == \"Enterprise\"):\n",
    "        found_values.append(dictionary)\n",
    "print(found_values)\n"
   ]
  },
  {
   "cell_type": "code",
   "execution_count": 11,
   "id": "4dff52be",
   "metadata": {},
   "outputs": [
    {
     "name": "stdout",
     "output_type": "stream",
     "text": [
      "469846\n",
      "469856\n",
      "[{'agentId': 469846}, {'agentId': 469856}]\n"
     ]
    }
   ],
   "source": [
    "empty_list=[]\n",
    "for item in found_values:\n",
    "    agentId=item['agentId']\n",
    "    print(agentId)\n",
    "    empty_list.append({'agentId': agentId})\n",
    "print(empty_list)"
   ]
  },
  {
   "cell_type": "code",
   "execution_count": 8,
   "id": "56256f78",
   "metadata": {},
   "outputs": [
    {
     "name": "stdout",
     "output_type": "stream",
     "text": [
      "<Response [400]>\n"
     ]
    }
   ],
   "source": [
    "url='https://api.thousandeyes.com/v6/tests/agent-to-server/new.json'\n",
    "payload = {'interval': '300', 'agents': empty_list, 'testName': 'test-60', 'port': '80', 'server': 'www.thousandeyes.com','alertsEnabled': '0'}\n",
    "header = {'content-type': 'application/json', 'authorization': 'Bearer ' + token}\n",
    "r = requests.post(url, data=json.dumps(payload), headers=header, verify=False)\n",
    "print(r)"
   ]
  },
  {
   "cell_type": "code",
   "execution_count": null,
   "id": "86c17551",
   "metadata": {},
   "outputs": [],
   "source": []
  }
 ],
 "metadata": {
  "kernelspec": {
   "display_name": "Python 3 (ipykernel)",
   "language": "python",
   "name": "python3"
  },
  "language_info": {
   "codemirror_mode": {
    "name": "ipython",
    "version": 3
   },
   "file_extension": ".py",
   "mimetype": "text/x-python",
   "name": "python",
   "nbconvert_exporter": "python",
   "pygments_lexer": "ipython3",
   "version": "3.10.0"
  }
 },
 "nbformat": 4,
 "nbformat_minor": 5
}
